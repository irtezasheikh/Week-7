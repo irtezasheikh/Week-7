{
 "cells": [
  {
   "cell_type": "code",
   "execution_count": 1,
   "id": "d885768d",
   "metadata": {},
   "outputs": [],
   "source": [
    "import pandas as pd\n",
    "import numpy as np \n",
    "from functools import reduce"
   ]
  },
  {
   "cell_type": "code",
   "execution_count": 2,
   "id": "a9040fa0",
   "metadata": {},
   "outputs": [],
   "source": [
    "import os"
   ]
  },
  {
   "cell_type": "code",
   "execution_count": 3,
   "id": "29fff52d",
   "metadata": {},
   "outputs": [],
   "source": [
    "import matplotlib.pyplot as plt\n"
   ]
  },
  {
   "cell_type": "code",
   "execution_count": 4,
   "id": "2c434cf0",
   "metadata": {},
   "outputs": [],
   "source": [
    "viewers = ['John','Logan','Modesto','Malcom','Maurice']"
   ]
  },
  {
   "cell_type": "code",
   "execution_count": 5,
   "id": "8927c7a3",
   "metadata": {},
   "outputs": [],
   "source": [
    "movies = ['American Snippers','Edge Of Tommorrow','Groundhog day','Jurassic World','Lost In Translation','Lucy']"
   ]
  },
  {
   "cell_type": "code",
   "execution_count": 39,
   "id": "b0d223c4",
   "metadata": {},
   "outputs": [],
   "source": [
    "viewers.sort()"
   ]
  },
  {
   "cell_type": "code",
   "execution_count": 40,
   "id": "7212c60e",
   "metadata": {},
   "outputs": [
    {
     "name": "stdout",
     "output_type": "stream",
     "text": [
      "['John', 'Logan', 'Malcom', 'Maurice', 'Modesto']\n"
     ]
    }
   ],
   "source": [
    "print(viewers)"
   ]
  },
  {
   "cell_type": "code",
   "execution_count": 41,
   "id": "f622bfe7",
   "metadata": {},
   "outputs": [],
   "source": [
    "movies.sort()"
   ]
  },
  {
   "cell_type": "code",
   "execution_count": 42,
   "id": "3b00cae5",
   "metadata": {},
   "outputs": [
    {
     "name": "stdout",
     "output_type": "stream",
     "text": [
      "['American Snippers', 'Edge Of Tommorrow', 'Groundhog day', 'Jurassic World', 'Lost In Translation', 'Lucy']\n"
     ]
    }
   ],
   "source": [
    "print(movies)"
   ]
  },
  {
   "cell_type": "code",
   "execution_count": 8,
   "id": "bd72b5b3",
   "metadata": {},
   "outputs": [
    {
     "name": "stdout",
     "output_type": "stream",
     "text": [
      "[['John', 'Logan', 'Modesto', 'Malcom', 'Maurice'], ['American Snippers', 'Edge Of Tommorrow', 'Groundhog day', 'Jurassic World', 'Lost In Translation', 'Lucy']]\n"
     ]
    }
   ],
   "source": [
    "print(list((viewers,movies)))"
   ]
  },
  {
   "cell_type": "code",
   "execution_count": 12,
   "id": "ee43c768",
   "metadata": {},
   "outputs": [],
   "source": [
    "movie ='Lost In Translation'"
   ]
  },
  {
   "cell_type": "code",
   "execution_count": 18,
   "id": "9fb41c19",
   "metadata": {},
   "outputs": [],
   "source": [
    "sp = movie.split(\" \",2)"
   ]
  },
  {
   "cell_type": "code",
   "execution_count": 19,
   "id": "d345b695",
   "metadata": {},
   "outputs": [
    {
     "name": "stdout",
     "output_type": "stream",
     "text": [
      "Lost In Translation\n"
     ]
    }
   ],
   "source": [
    "print(movie)"
   ]
  },
  {
   "cell_type": "code",
   "execution_count": 22,
   "id": "5177155c",
   "metadata": {},
   "outputs": [
    {
     "name": "stdout",
     "output_type": "stream",
     "text": [
      "[]\n"
     ]
    }
   ],
   "source": [
    "c= list(filter(lambda x: x in viewers, movies))\n",
    "print(c)"
   ]
  },
  {
   "cell_type": "code",
   "execution_count": 21,
   "id": "0779a9a4",
   "metadata": {},
   "outputs": [
    {
     "name": "stdout",
     "output_type": "stream",
     "text": [
      "[5, 4, 3, 2, 1]\n"
     ]
    }
   ],
   "source": [
    "Ratings= [5,4,3,2,1]\n",
    "a=list(map((lambda x: x ), Ratings))\n",
    "print(a)"
   ]
  },
  {
   "cell_type": "code",
   "execution_count": 23,
   "id": "2ded54bb",
   "metadata": {},
   "outputs": [],
   "source": [
    "df = c"
   ]
  },
  {
   "cell_type": "code",
   "execution_count": 24,
   "id": "9dea6cca",
   "metadata": {},
   "outputs": [
    {
     "data": {
      "text/plain": [
       "<function list.index(value, start=0, stop=9223372036854775807, /)>"
      ]
     },
     "execution_count": 24,
     "metadata": {},
     "output_type": "execute_result"
    }
   ],
   "source": [
    "df.index"
   ]
  },
  {
   "cell_type": "code",
   "execution_count": 29,
   "id": "ec8c3234",
   "metadata": {},
   "outputs": [
    {
     "data": {
      "text/plain": [
       "'1.4.4'"
      ]
     },
     "execution_count": 29,
     "metadata": {},
     "output_type": "execute_result"
    }
   ],
   "source": [
    "pd.__version__"
   ]
  },
  {
   "cell_type": "code",
   "execution_count": 38,
   "id": "f75d995f",
   "metadata": {},
   "outputs": [
    {
     "name": "stdout",
     "output_type": "stream",
     "text": [
      "American Snippers\n"
     ]
    }
   ],
   "source": [
    "\n",
    "fav = reduce(lambda x,y:x, movies)\n",
    "print(fav)"
   ]
  }
 ],
 "metadata": {
  "kernelspec": {
   "display_name": "Python 3 (ipykernel)",
   "language": "python",
   "name": "python3"
  },
  "language_info": {
   "codemirror_mode": {
    "name": "ipython",
    "version": 3
   },
   "file_extension": ".py",
   "mimetype": "text/x-python",
   "name": "python",
   "nbconvert_exporter": "python",
   "pygments_lexer": "ipython3",
   "version": "3.10.6"
  }
 },
 "nbformat": 4,
 "nbformat_minor": 5
}
